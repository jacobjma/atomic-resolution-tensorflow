{
 "cells": [
  {
   "cell_type": "code",
   "execution_count": 1,
   "metadata": {
    "collapsed": false
   },
   "outputs": [
    {
     "name": "stdout",
     "output_type": "stream",
     "text": [
      "Using matplotlib backend: TkAgg\n"
     ]
    }
   ],
   "source": [
    "%matplotlib\n",
    "%load_ext autoreload\n",
    "%autoreload 2\n",
    "import numpy as np\n",
    "from IPython.display import clear_output\n",
    "import lloyds\n",
    "from poisson_disc import Grid\n",
    "from labels import project_positions,create_label\n",
    "from ase import Atoms,Atom\n",
    "from pyqstem import PyQSTEM\n",
    "from pyqstem.imaging import CTF\n",
    "from pyqstem.util import atoms_plot\n",
    "import matplotlib.pyplot as plt\n",
    "import matplotlib.path as mplPath\n",
    "from scipy.spatial import Voronoi\n",
    "from ase.io import write,read\n",
    "import scipy.spatial\n",
    "from ase.visualize import view"
   ]
  },
  {
   "cell_type": "code",
   "execution_count": 2,
   "metadata": {
    "collapsed": false
   },
   "outputs": [],
   "source": [
    "def lookup_nearest(x0, y0, x, y, z):\n",
    "    xi = np.abs(x-x0).argmin()\n",
    "    yi = np.abs(y-y0).argmin()\n",
    "    return z[yi,xi]\n",
    "\n",
    "def strain(positions,direction,cell,power=-3,amplitude=10**3,N=(64,64)):\n",
    "    noise=spectral_noise.power_law_noise(N,power)\n",
    "    x=np.linspace(0,cell[0],N[0])\n",
    "    y=np.linspace(0,cell[1],N[1])\n",
    "\n",
    "    positions[:,direction]+=amplitude*np.array([lookup_nearest(p[0], p[1], x, y, noise) for p in positions]).T\n",
    "    \n",
    "    return positions\n",
    "\n",
    "def random_sheet(cell,r):\n",
    "    \n",
    "    grid = Grid(r, cell[0], cell[1])\n",
    "    \n",
    "    rand = (np.random.uniform(0, cell[0]), np.random.uniform(0, cell[1]))\n",
    "    positions = grid.poisson(rand)\n",
    "    \n",
    "    positions=lloyds.repeat(positions,cell[:2])\n",
    "    \n",
    "    vor=Voronoi(positions)\n",
    "    \n",
    "    positions=vor.vertices\n",
    "    \n",
    "    positions=positions[positions[:,0]<cell[0]]\n",
    "    positions=positions[positions[:,0]>0]\n",
    "    positions=positions[positions[:,1]<cell[1]]\n",
    "    positions=positions[positions[:,1]>0]\n",
    "    \n",
    "    positions=lloyds.relax(positions,cell[:2],num_iter=1,bc='periodic')\n",
    "    \n",
    "    num_holes=np.random.randint(0,3)\n",
    "    for i in range(num_holes):\n",
    "        size=(.4+.6*np.random.rand())*cell[0]\n",
    "        hole=size*blob()+[np.random.uniform(0, cell[0]), np.random.uniform(0, cell[1])]\n",
    "        contained = mplPath.Path(hole).contains_points(positions)\n",
    "        positions = positions[np.where(contained==0)[0]]\n",
    "    \n",
    "    positions=np.hstack((positions,np.array([[0]*len(positions)]).T))\n",
    "    \n",
    "    atoms=Atoms(['C']*len(positions),positions)\n",
    "\n",
    "    atoms.set_cell(cell)\n",
    "    atoms.set_positions(positions)\n",
    "    atoms.set_pbc(1)\n",
    "    atoms.wrap()\n",
    "    atoms.center()\n",
    "    \n",
    "    print(len(atoms)/(cell[0]*cell[1]),2/5.24)\n",
    "    \n",
    "    return atoms"
   ]
  },
  {
   "cell_type": "code",
   "execution_count": 33,
   "metadata": {
    "collapsed": false
   },
   "outputs": [
    {
     "name": "stdout",
     "output_type": "stream",
     "text": [
      "0.37371296995088416 0.38167938931297707\n"
     ]
    }
   ],
   "source": [
    "N=360\n",
    "sampling=24.48/2048*10\n",
    "L=sampling*N\n",
    "cell=(L,L,5)\n",
    "\n",
    "atoms=random_sheet(cell,1.9)\n",
    "#atoms=grains_sheet(cell,8)\n",
    "\n",
    "sites = atoms.get_positions()\n",
    "\n",
    "\n",
    "mos2=Atoms()\n",
    "mos2.set_cell(atoms.get_cell()*1.2)\n",
    "\n",
    "\n",
    "dz=.5\n",
    "\n",
    "for site in sites:\n",
    "    \n",
    "    r=np.random.rand()\n",
    "    \n",
    "    if r < .5:\n",
    "        mos2+=Atom('Mo',position=site*1.2)\n",
    "    elif r < 1:\n",
    "        mos2+=Atom('S',position=site*1.2+[0,0,dz])\n",
    "        mos2+=Atom('S',position=site*1.2+[0,0,-dz])\n",
    "        \n",
    "        \n",
    "\n",
    "#atoms_plot(mos2)\n",
    "\n",
    "view(mos2)"
   ]
  },
  {
   "cell_type": "code",
   "execution_count": 34,
   "metadata": {
    "collapsed": false
   },
   "outputs": [
    {
     "name": "stdout",
     "output_type": "stream",
     "text": [
      "iteration 0\n"
     ]
    }
   ],
   "source": [
    "num_examples=1\n",
    "#num_examples=len(examples)\n",
    "\n",
    "dir_name='graphene-random'\n",
    "first_number=0\n",
    "label_size=(N,N)\n",
    "\n",
    "for i in range(num_examples):\n",
    "    #atoms=examples[i]\n",
    "    #atoms=random_sheet(cell,1.9)\n",
    "    \n",
    "    atoms=mos2\n",
    "    \n",
    "    qstem=PyQSTEM('TEM')\n",
    "    \n",
    "    image_size=(int(atoms.get_cell()[0,0]*12),int(atoms.get_cell()[1,1]*12))\n",
    "\n",
    "    qstem.set_atoms(atoms)\n",
    "    qstem.build_wave('plane',80,image_size)\n",
    "    qstem.build_potential(int(atoms.get_cell()[2,2]*2))\n",
    "    qstem.run()\n",
    "    wave=qstem.get_wave()\n",
    "    wave.array=wave.array.astype(np.complex64)\n",
    "    \n",
    "    positions=project_positions(atoms,distance=0)/sampling\n",
    "    classes=[0]*len(positions)\n",
    "    label=create_label(positions,label_size,6)\n",
    "    \n",
    "    #np.save('../data/{0}/label/label_{1:04d}.npy'.format(dir_name,first_number+i),label)\n",
    "    #write('../data/{0}/model/model_{1:04d}.cfg'.format(dir_name,first_number+i),atoms)\n",
    "    #wave.save('../data/{0}/wave/wave_{1:04d}.npz'.format(dir_name,first_number+i))\n",
    "    \n",
    "    print('iteration',i)\n",
    "    clear_output(wait=True)"
   ]
  },
  {
   "cell_type": "code",
   "execution_count": 40,
   "metadata": {
    "collapsed": true
   },
   "outputs": [],
   "source": [
    "wave.view()"
   ]
  },
  {
   "cell_type": "code",
   "execution_count": 39,
   "metadata": {
    "collapsed": false
   },
   "outputs": [
    {
     "name": "stdout",
     "output_type": "stream",
     "text": [
      "(432, 432) (360, 360, 1)\n"
     ]
    },
    {
     "data": {
      "text/plain": [
       "(-0.5, 359.5, 359.5, -0.5)"
      ]
     },
     "execution_count": 39,
     "metadata": {},
     "output_type": "execute_result"
    }
   ],
   "source": [
    "sampling=24.48/2048*10\n",
    "Cs=-11.5*10**4\n",
    "defocus=-80/400000.*Cs+200\n",
    "focal_spread=20\n",
    "\n",
    "\n",
    "ctf=CTF(defocus=defocus,Cs=Cs,focal_spread=focal_spread)\n",
    "image=wave.apply_ctf(ctf).detect(resample=sampling)\n",
    "\n",
    "print(image.shape,label.shape)\n",
    "\n",
    "fig,(ax1,ax2,ax3)=plt.subplots(1,3,figsize=(10,4))\n",
    "\n",
    "atoms_plot(atoms,ax=ax1)\n",
    "ax1.axis('off')\n",
    "\n",
    "ax2.imshow(np.flipud(image.T),cmap='gray');\n",
    "ax2.axis('off')\n",
    "\n",
    "ax3.imshow(np.flipud(label[:,:,0].T))\n",
    "ax3.axis('off')\n",
    "\n",
    "#plt.tight_layout()"
   ]
  }
 ],
 "metadata": {
  "anaconda-cloud": {},
  "kernelspec": {
   "display_name": "tensorflow",
   "language": "python",
   "name": "tensorflow"
  },
  "language_info": {
   "codemirror_mode": {
    "name": "ipython",
    "version": 3
   },
   "file_extension": ".py",
   "mimetype": "text/x-python",
   "name": "python",
   "nbconvert_exporter": "python",
   "pygments_lexer": "ipython3",
   "version": "3.5.2"
  }
 },
 "nbformat": 4,
 "nbformat_minor": 1
}
