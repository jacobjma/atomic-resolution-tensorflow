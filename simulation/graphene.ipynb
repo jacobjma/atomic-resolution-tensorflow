{
 "cells": [
  {
   "cell_type": "code",
   "execution_count": 1,
   "metadata": {
    "collapsed": false
   },
   "outputs": [
    {
     "name": "stdout",
     "output_type": "stream",
     "text": [
      "Using matplotlib backend: TkAgg\n"
     ]
    }
   ],
   "source": [
    "%matplotlib\n",
    "%load_ext autoreload\n",
    "%autoreload 2\n",
    "import numpy as np\n",
    "from IPython.display import clear_output\n",
    "import lloyds\n",
    "from poisson_disc import Grid\n",
    "from labels import project_positions,create_label\n",
    "from ase import Atoms\n",
    "from pyqstem import PyQSTEM\n",
    "from pyqstem.imaging import CTF\n",
    "from pyqstem.util import atoms_plot\n",
    "import matplotlib.pyplot as plt\n",
    "import matplotlib.path as mplPath\n",
    "from scipy.spatial import Voronoi\n",
    "from ase.io import write,read\n",
    "import scipy.spatial\n",
    "from glob import glob\n",
    "from temnn.net.dataset import DataSet, DataEntry"
   ]
  },
  {
   "cell_type": "code",
   "execution_count": 2,
   "metadata": {
    "collapsed": false
   },
   "outputs": [],
   "source": [
    "def interpolate_smoothly(points, N):\n",
    "    half = (len(points) + 1) // 2\n",
    "    F = np.fft.fft(points)\n",
    "    F = np.hstack((F[:half],[0]*(len(F)*N),F[half:]))\n",
    "    return np.fft.fft(F)[::-1].real / len(points)\n",
    "\n",
    "def blob(N=10,M=50):\n",
    "    points=np.array([np.random.rand(N),np.random.rand(N)]).T\n",
    "    points=points[scipy.spatial.ConvexHull(points).vertices]\n",
    "    points=np.array([interpolate_smoothly(p, M) for p in zip(*points)]).T\n",
    "    return points-np.mean(points,axis=0)\n",
    "\n",
    "def random_sheet(cell,r):\n",
    "    \n",
    "    grid = Grid(r, cell[0], cell[1])\n",
    "    \n",
    "    rand = (np.random.uniform(0, cell[0]), np.random.uniform(0, cell[1]))\n",
    "    positions = grid.poisson(rand)\n",
    "    \n",
    "    positions=lloyds.repeat(positions,cell[:2])\n",
    "    \n",
    "    vor=Voronoi(positions)\n",
    "    \n",
    "    positions=vor.vertices\n",
    "    \n",
    "    positions=positions[positions[:,0]<cell[0]]\n",
    "    positions=positions[positions[:,0]>0]\n",
    "    positions=positions[positions[:,1]<cell[1]]\n",
    "    positions=positions[positions[:,1]>0]\n",
    "    \n",
    "    positions=lloyds.relax(positions,cell[:2],num_iter=1,bc='periodic')\n",
    "    \n",
    "    num_holes=np.random.randint(0,3)\n",
    "    for i in range(num_holes):\n",
    "        size=(.4+.6*np.random.rand())*cell[0]\n",
    "        hole=size*blob()+[np.random.uniform(0, cell[0]), np.random.uniform(0, cell[1])]\n",
    "        contained = mplPath.Path(hole).contains_points(positions)\n",
    "        positions = positions[np.where(contained==0)[0]]\n",
    "    \n",
    "    positions=np.hstack((positions,np.array([[0]*len(positions)]).T))\n",
    "    \n",
    "    atoms=Atoms(['C']*len(positions),positions)\n",
    "\n",
    "    atoms.set_cell(cell)\n",
    "    atoms.set_positions(positions)\n",
    "    atoms.set_pbc(1)\n",
    "    atoms.wrap()\n",
    "    atoms.center()\n",
    "    \n",
    "    print(len(atoms)/(cell[0]*cell[1]),2/5.24)\n",
    "    \n",
    "    return atoms"
   ]
  },
  {
   "cell_type": "code",
   "execution_count": 3,
   "metadata": {
    "collapsed": false
   },
   "outputs": [
    {
     "name": "stdout",
     "output_type": "stream",
     "text": [
      "0.30242668088510855 0.38167938931297707\n"
     ]
    }
   ],
   "source": [
    "N=360\n",
    "sampling=24.48/2048*10\n",
    "L=sampling*N\n",
    "cell=(L,L,5)\n",
    "\n",
    "atoms=random_sheet(cell,1.9)\n",
    "#atoms=grains_sheet(cell,8)\n",
    "\n",
    "atoms_plot(atoms)"
   ]
  },
  {
   "cell_type": "code",
   "execution_count": 5,
   "metadata": {
    "collapsed": true
   },
   "outputs": [],
   "source": [
    "num_examples=1\n",
    "#num_examples=len(examples)\n",
    "\n",
    "dir_name='../data/graphene-random/'\n",
    "first_number=0\n",
    "label_size=(N,N)\n"
   ]
  },
  {
   "cell_type": "code",
   "execution_count": 7,
   "metadata": {
    "collapsed": false
   },
   "outputs": [
    {
     "name": "stdout",
     "output_type": "stream",
     "text": [
      "0.37371296995088416 0.38167938931297707\n",
      "(0.083393894135952, 0.083393894135952)\n",
      "iteration 0\n"
     ]
    }
   ],
   "source": [
    "\n",
    "for i in range(num_examples):\n",
    "    #atoms=examples[i]\n",
    "    atoms=random_sheet(cell,1.9)\n",
    "    \n",
    "    qstem=PyQSTEM('TEM')\n",
    "    \n",
    "    image_size=(int(atoms.get_cell()[0,0]*12),int(atoms.get_cell()[1,1]*12))\n",
    "\n",
    "    qstem.set_atoms(atoms)\n",
    "    qstem.build_wave('plane',80,image_size)\n",
    "    qstem.build_potential(int(atoms.get_cell()[2,2]*2))\n",
    "    qstem.run()\n",
    "    wave=qstem.get_wave()\n",
    "    \n",
    "    print(wave.sampling)\n",
    "    \n",
    "    wave.array=wave.array.astype(np.complex64)\n",
    "    \n",
    "    positions=project_positions(atoms,distance=0)/sampling\n",
    "    classes=[0]*len(positions)\n",
    "    label=create_label(positions,label_size,6)\n",
    "    \n",
    "    np.save('{0}/label/label_{1:04d}.npy'.format(dir_name,first_number+i),label)\n",
    "    np.savez('{0}/points/points_{1:04d}.npz'.format(dir_name,first_number+i), sites=positions, classes=[0]*len(positions))\n",
    "    wave.save('{0}/wave/wave_{1:04d}.npz'.format(dir_name,first_number+i))\n",
    "    write('{0}/model/model_{1:04d}.cfg'.format(dir_name,first_number+i),atoms)\n",
    "    \n",
    "    print('iteration',i)\n",
    "    clear_output(wait=True)"
   ]
  },
  {
   "cell_type": "code",
   "execution_count": 8,
   "metadata": {
    "collapsed": true
   },
   "outputs": [],
   "source": [
    "def load(data_dir):\n",
    "    \n",
    "    waves=glob(data_dir+\"wave/wave_*.npz\")\n",
    "    labels=glob(data_dir+\"label/label_*.npy\")\n",
    "\n",
    "    entries=[DataEntry(wave=w,label=l) for w,l in zip(waves,labels)]\n",
    "    \n",
    "    return DataSet(entries)"
   ]
  },
  {
   "cell_type": "code",
   "execution_count": 24,
   "metadata": {
    "collapsed": false
   },
   "outputs": [
    {
     "data": {
      "text/plain": [
       "<matplotlib.image.AxesImage at 0x22381743da0>"
      ]
     },
     "execution_count": 24,
     "metadata": {},
     "output_type": "execute_result"
    }
   ],
   "source": [
    "sampling=24.48/2048*10\n",
    "Cs=np.random.uniform(-20,20)*10**4\n",
    "defocus=np.random.uniform(-200,200)\n",
    "focal_spread=np.random.uniform(25,50)\n",
    "aberrations={'a22':np.random.uniform(0,50),'phi22':np.random.rand()*2*np.pi,'a40':np.random.uniform(0,60)*10**6}\n",
    "dose=10**np.random.uniform(4,6)\n",
    "mtf_param=[1,np.random.uniform(0,.1),np.random.uniform(0.4,.6),np.random.uniform(2,3)]\n",
    "blur=np.random.uniform(0,2)\n",
    "\n",
    "\n",
    "data = load(dir_name)\n",
    "entry=data.next_batch(1)[0]\n",
    "\n",
    "entry.reset()\n",
    "entry.load()\n",
    "ctf=CTF(defocus=defocus,Cs=Cs,focal_spread=focal_spread,aberrations=aberrations)\n",
    "entry.create_image(ctf,sampling,blur,dose,mtf_param)\n",
    "\n",
    "#entry.crop(crop)\n",
    "\n",
    "image,label=entry.as_tensors()\n",
    "\n",
    "\n",
    "plt.imshow(image[0,:,:,0],cmap='gray')\n"
   ]
  }
 ],
 "metadata": {
  "anaconda-cloud": {},
  "kernelspec": {
   "display_name": "tensorflow",
   "language": "python",
   "name": "tensorflow"
  },
  "language_info": {
   "codemirror_mode": {
    "name": "ipython",
    "version": 3
   },
   "file_extension": ".py",
   "mimetype": "text/x-python",
   "name": "python",
   "nbconvert_exporter": "python",
   "pygments_lexer": "ipython3",
   "version": "3.5.2"
  }
 },
 "nbformat": 4,
 "nbformat_minor": 1
}
