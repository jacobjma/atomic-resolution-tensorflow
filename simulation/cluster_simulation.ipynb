{
 "cells": [
  {
   "cell_type": "code",
   "execution_count": 9,
   "metadata": {},
   "outputs": [
    {
     "name": "stdout",
     "output_type": "stream",
     "text": [
      "Using matplotlib backend: TkAgg\n"
     ]
    }
   ],
   "source": [
    "%matplotlib\n",
    "from glob import glob\n",
    "import numpy as np\n",
    "import matplotlib.pyplot as plt\n",
    "from labels import project_positions,create_label\n",
    "from random_cluster import RandomCluster\n",
    "from pyqstem import PyQSTEM\n",
    "from pyqstem.imaging import CTF\n",
    "from temnn.net.dataset import DataSet, DataEntry\n",
    "from temnn.net import mods\n",
    "from scipy.cluster.hierarchy import fcluster, linkage"
   ]
  },
  {
   "cell_type": "code",
   "execution_count": 6,
   "metadata": {},
   "outputs": [],
   "source": [
    "rc=RandomCluster(4.065,20)"
   ]
  },
  {
   "cell_type": "code",
   "execution_count": 12,
   "metadata": {},
   "outputs": [],
   "source": [
    "N=424\n",
    "sampling=.086\n",
    "L=sampling*N\n",
    "num_examples=5\n",
    "num_classes=1\n",
    "\n",
    "dir_name='../data/cluster/'\n",
    "first_number=0"
   ]
  },
  {
   "cell_type": "code",
   "execution_count": 13,
   "metadata": {},
   "outputs": [
    {
     "name": "stdout",
     "output_type": "stream",
     "text": [
      "0\n",
      "1\n",
      "2\n",
      "3\n",
      "4\n"
     ]
    }
   ],
   "source": [
    "models_list=[]\n",
    "sites_list=[]\n",
    "classes_list=[]\n",
    "\n",
    "for i in range(num_examples):\n",
    "    radius=5+np.random.rand()*9\n",
    "    \n",
    "    lengths100=np.random.uniform(radius,radius+.2*radius,6)\n",
    "    lengths111=np.random.uniform(radius,radius+.2*radius,8)\n",
    "    \n",
    "    rc.create_seed(lengths100,lengths111)\n",
    "    rc.build(np.int(np.random.uniform(0,np.sum(rc.active)/3.)),1,.2)\n",
    "    \n",
    "    atoms=rc.get_cluster('Au')\n",
    "    \n",
    "    atoms.rotate('y',a=np.pi/4.)\n",
    "    \n",
    "    positions=atoms.get_positions()\n",
    "    clusters = fcluster(linkage(positions[:,:2]), 1, criterion='distance')\n",
    "    unique,indices=np.unique(clusters, return_index=True)\n",
    "\n",
    "    alpha=np.random.rand()*1.5/180.*np.pi\n",
    "    \n",
    "    atoms.rotate('z',np.random.random()*2*np.pi,center='COP')\n",
    "    atoms.rotate('y',alpha,center='COP')\n",
    "    atoms.rotate('z',np.random.random()*2*np.pi,center='COP')\n",
    "\n",
    "    alpha=np.random.rand()*1.5/180.*np.pi\n",
    "    \n",
    "    atoms.rotate('z',np.random.random()*2*np.pi,center='COP')\n",
    "    atoms.rotate('y',alpha,center='COP')\n",
    "    atoms.rotate('z',np.random.random()*2*np.pi,center='COP')\n",
    "    \n",
    "    atoms.rotate('z',a=np.random.random()*2*np.pi)\n",
    "    \n",
    "    atoms.center(vacuum=0)\n",
    "    size=np.diag(atoms.get_cell())\n",
    "\n",
    "    atoms.set_cell((L,)*3)\n",
    "    atoms.center()\n",
    "\n",
    "    tx=(L-size[0]-5)*(np.random.rand()-.5)\n",
    "    ty=(L-size[1]-5)*(np.random.rand()-.5)\n",
    "\n",
    "    atoms.translate((tx,ty,0))\n",
    "    \n",
    "    positions=atoms.get_positions()[:,:2]\n",
    "    \n",
    "    c=np.array([np.sum(clusters==u) for u in unique])-1\n",
    "        \n",
    "    sites_list.append(np.array([np.mean(positions[clusters==u],axis=0) for u in unique]))\n",
    "    \n",
    "    \n",
    "    classes_list.append(c)\n",
    "    models_list.append(atoms)\n",
    "    \n",
    "    print(i)"
   ]
  },
  {
   "cell_type": "code",
   "execution_count": 14,
   "metadata": {},
   "outputs": [
    {
     "ename": "NameError",
     "evalue": "name 'M' is not defined",
     "output_type": "error",
     "traceback": [
      "\u001b[0;31m---------------------------------------------------------------------------\u001b[0m",
      "\u001b[0;31mNameError\u001b[0m                                 Traceback (most recent call last)",
      "\u001b[0;32m<ipython-input-14-f403567a479d>\u001b[0m in \u001b[0;36m<module>\u001b[0;34m()\u001b[0m\n\u001b[1;32m     23\u001b[0m         \u001b[1;31m#cmap=discrete_cmap(M,'Paired')\u001b[0m\u001b[1;33m\u001b[0m\u001b[1;33m\u001b[0m\u001b[0m\n\u001b[1;32m     24\u001b[0m         sc=ax.scatter(sites[:,0]/sampling,sites[:,1]/sampling,\n\u001b[0;32m---> 25\u001b[0;31m                                s=30,vmin=1-0.5,vmax=1+M-.5,c=classes+1,cmap=cmap,lw=0)\n\u001b[0m\u001b[1;32m     26\u001b[0m \u001b[1;33m\u001b[0m\u001b[0m\n\u001b[1;32m     27\u001b[0m         \u001b[0max\u001b[0m\u001b[1;33m.\u001b[0m\u001b[0mset_aspect\u001b[0m\u001b[1;33m(\u001b[0m\u001b[1;34m'equal'\u001b[0m\u001b[1;33m,\u001b[0m\u001b[0madjustable\u001b[0m\u001b[1;33m=\u001b[0m\u001b[1;34m'box'\u001b[0m\u001b[1;33m)\u001b[0m\u001b[1;33m\u001b[0m\u001b[0m\n",
      "\u001b[0;31mNameError\u001b[0m: name 'M' is not defined"
     ]
    }
   ],
   "source": [
    "from matplotlib import gridspec\n",
    "\n",
    "n=3\n",
    "m=4\n",
    "\n",
    "fig=plt.figure(figsize=(12,4))\n",
    "gs=gridspec.GridSpec(n,m+2,width_ratios=[1,1,1,1,.05,.05])\n",
    "gs.update(wspace=.025,hspace=.025)\n",
    "\n",
    "for i in range(n):\n",
    "    for j in range(m):\n",
    "        \n",
    "        k=i*m+j\n",
    "        \n",
    "        ax=plt.subplot(gs[i,j])\n",
    "        \n",
    "        classes=classes_list[k]\n",
    "        \n",
    "        sites=sites_list[k]\n",
    "        \n",
    "        #sites=sites[np.argsort(sites[:,2])]\n",
    "        \n",
    "        #cmap=discrete_cmap(M,'Paired')\n",
    "        sc=ax.scatter(sites[:,0]/sampling,sites[:,1]/sampling,\n",
    "                               s=30,vmin=1-0.5,vmax=1+M-.5,c=classes+1,cmap=cmap,lw=0)\n",
    "        \n",
    "        ax.set_aspect('equal',adjustable='box')\n",
    "        ax.set_xticks([])\n",
    "        ax.set_yticks([])\n",
    "        ax.set_xlim([0,N])\n",
    "        ax.set_ylim([0,N])\n",
    "\n",
    "\n",
    "inner = gridspec.GridSpecFromSubplotSpec(3,1,subplot_spec=gs[:,4],height_ratios=[1,20,1])\n",
    "cax=plt.subplot(inner[1])\n",
    "\n",
    "cbar=plt.colorbar(sc,cax=cax,ticks=np.arange(1,M+1,1),orientation='vertical')\n",
    "#plt.colorbar(sc, cax=cax, orientation='vertical',ticks=[-5,-2.5,0,2.5,5],label='$\\epsilon_p$ [\\%]')        \n",
    "\n",
    "#plt.tight_layout()\n",
    "plt.show()"
   ]
  },
  {
   "cell_type": "code",
   "execution_count": 15,
   "metadata": {},
   "outputs": [
    {
     "ename": "FileNotFoundError",
     "evalue": "[Errno 2] No such file or directory: '../data/cluster//points/points_0000.npz'",
     "output_type": "error",
     "traceback": [
      "\u001b[0;31m---------------------------------------------------------------------------\u001b[0m",
      "\u001b[0;31mFileNotFoundError\u001b[0m                         Traceback (most recent call last)",
      "\u001b[0;32m<ipython-input-15-db74e7f6c667>\u001b[0m in \u001b[0;36m<module>\u001b[0;34m()\u001b[0m\n\u001b[1;32m     13\u001b[0m     \u001b[0mwave\u001b[0m\u001b[1;33m.\u001b[0m\u001b[0marray\u001b[0m\u001b[1;33m=\u001b[0m\u001b[0mwave\u001b[0m\u001b[1;33m.\u001b[0m\u001b[0marray\u001b[0m\u001b[1;33m.\u001b[0m\u001b[0mastype\u001b[0m\u001b[1;33m(\u001b[0m\u001b[0mnp\u001b[0m\u001b[1;33m.\u001b[0m\u001b[0mcomplex64\u001b[0m\u001b[1;33m)\u001b[0m\u001b[1;33m\u001b[0m\u001b[0m\n\u001b[1;32m     14\u001b[0m \u001b[1;33m\u001b[0m\u001b[0m\n\u001b[0;32m---> 15\u001b[0;31m     \u001b[0mnp\u001b[0m\u001b[1;33m.\u001b[0m\u001b[0msavez\u001b[0m\u001b[1;33m(\u001b[0m\u001b[1;34m'{0}/points/points_{1:04d}.npz'\u001b[0m\u001b[1;33m.\u001b[0m\u001b[0mformat\u001b[0m\u001b[1;33m(\u001b[0m\u001b[0mdir_name\u001b[0m\u001b[1;33m,\u001b[0m\u001b[0mfirst_number\u001b[0m\u001b[1;33m+\u001b[0m\u001b[0mi\u001b[0m\u001b[1;33m)\u001b[0m\u001b[1;33m,\u001b[0m \u001b[0msites\u001b[0m\u001b[1;33m=\u001b[0m\u001b[0msites_list\u001b[0m\u001b[1;33m[\u001b[0m\u001b[0mi\u001b[0m\u001b[1;33m]\u001b[0m\u001b[1;33m,\u001b[0m \u001b[0mclasses\u001b[0m\u001b[1;33m=\u001b[0m\u001b[0mclasses_list\u001b[0m\u001b[1;33m[\u001b[0m\u001b[0mi\u001b[0m\u001b[1;33m]\u001b[0m\u001b[1;33m)\u001b[0m\u001b[1;33m\u001b[0m\u001b[0m\n\u001b[0m\u001b[1;32m     16\u001b[0m     \u001b[0mwave\u001b[0m\u001b[1;33m.\u001b[0m\u001b[0msave\u001b[0m\u001b[1;33m(\u001b[0m\u001b[1;34m'{0}/wave/wave_{1:04d}.npz'\u001b[0m\u001b[1;33m.\u001b[0m\u001b[0mformat\u001b[0m\u001b[1;33m(\u001b[0m\u001b[0mdir_name\u001b[0m\u001b[1;33m,\u001b[0m\u001b[0mfirst_number\u001b[0m\u001b[1;33m+\u001b[0m\u001b[0mi\u001b[0m\u001b[1;33m)\u001b[0m\u001b[1;33m)\u001b[0m\u001b[1;33m\u001b[0m\u001b[0m\n\u001b[1;32m     17\u001b[0m     \u001b[0mwrite\u001b[0m\u001b[1;33m(\u001b[0m\u001b[1;34m'{0}/model/model_{1:04d}.cfg'\u001b[0m\u001b[1;33m.\u001b[0m\u001b[0mformat\u001b[0m\u001b[1;33m(\u001b[0m\u001b[0mdir_name\u001b[0m\u001b[1;33m,\u001b[0m\u001b[0mfirst_number\u001b[0m\u001b[1;33m+\u001b[0m\u001b[0mi\u001b[0m\u001b[1;33m)\u001b[0m\u001b[1;33m,\u001b[0m\u001b[0mmodel\u001b[0m\u001b[1;33m)\u001b[0m\u001b[1;33m\u001b[0m\u001b[0m\n",
      "\u001b[0;32mC:\\Users\\jacob\\Anaconda3\\envs\\tensorflow\\lib\\site-packages\\numpy\\lib\\npyio.py\u001b[0m in \u001b[0;36msavez\u001b[0;34m(file, *args, **kwds)\u001b[0m\n\u001b[1;32m    591\u001b[0m \u001b[1;33m\u001b[0m\u001b[0m\n\u001b[1;32m    592\u001b[0m     \"\"\"\n\u001b[0;32m--> 593\u001b[0;31m     \u001b[0m_savez\u001b[0m\u001b[1;33m(\u001b[0m\u001b[0mfile\u001b[0m\u001b[1;33m,\u001b[0m \u001b[0margs\u001b[0m\u001b[1;33m,\u001b[0m \u001b[0mkwds\u001b[0m\u001b[1;33m,\u001b[0m \u001b[1;32mFalse\u001b[0m\u001b[1;33m)\u001b[0m\u001b[1;33m\u001b[0m\u001b[0m\n\u001b[0m\u001b[1;32m    594\u001b[0m \u001b[1;33m\u001b[0m\u001b[0m\n\u001b[1;32m    595\u001b[0m \u001b[1;33m\u001b[0m\u001b[0m\n",
      "\u001b[0;32mC:\\Users\\jacob\\Anaconda3\\envs\\tensorflow\\lib\\site-packages\\numpy\\lib\\npyio.py\u001b[0m in \u001b[0;36m_savez\u001b[0;34m(file, args, kwds, compress, allow_pickle, pickle_kwargs)\u001b[0m\n\u001b[1;32m    685\u001b[0m         \u001b[0mcompression\u001b[0m \u001b[1;33m=\u001b[0m \u001b[0mzipfile\u001b[0m\u001b[1;33m.\u001b[0m\u001b[0mZIP_STORED\u001b[0m\u001b[1;33m\u001b[0m\u001b[0m\n\u001b[1;32m    686\u001b[0m \u001b[1;33m\u001b[0m\u001b[0m\n\u001b[0;32m--> 687\u001b[0;31m     \u001b[0mzipf\u001b[0m \u001b[1;33m=\u001b[0m \u001b[0mzipfile_factory\u001b[0m\u001b[1;33m(\u001b[0m\u001b[0mfile\u001b[0m\u001b[1;33m,\u001b[0m \u001b[0mmode\u001b[0m\u001b[1;33m=\u001b[0m\u001b[1;34m\"w\"\u001b[0m\u001b[1;33m,\u001b[0m \u001b[0mcompression\u001b[0m\u001b[1;33m=\u001b[0m\u001b[0mcompression\u001b[0m\u001b[1;33m)\u001b[0m\u001b[1;33m\u001b[0m\u001b[0m\n\u001b[0m\u001b[1;32m    688\u001b[0m \u001b[1;33m\u001b[0m\u001b[0m\n\u001b[1;32m    689\u001b[0m     \u001b[1;31m# Stage arrays in a temporary file on disk, before writing to zip.\u001b[0m\u001b[1;33m\u001b[0m\u001b[1;33m\u001b[0m\u001b[0m\n",
      "\u001b[0;32mC:\\Users\\jacob\\Anaconda3\\envs\\tensorflow\\lib\\site-packages\\numpy\\lib\\npyio.py\u001b[0m in \u001b[0;36mzipfile_factory\u001b[0;34m(file, *args, **kwargs)\u001b[0m\n\u001b[1;32m     99\u001b[0m     \u001b[1;32mimport\u001b[0m \u001b[0mzipfile\u001b[0m\u001b[1;33m\u001b[0m\u001b[0m\n\u001b[1;32m    100\u001b[0m     \u001b[0mkwargs\u001b[0m\u001b[1;33m[\u001b[0m\u001b[1;34m'allowZip64'\u001b[0m\u001b[1;33m]\u001b[0m \u001b[1;33m=\u001b[0m \u001b[1;32mTrue\u001b[0m\u001b[1;33m\u001b[0m\u001b[0m\n\u001b[0;32m--> 101\u001b[0;31m     \u001b[1;32mreturn\u001b[0m \u001b[0mzipfile\u001b[0m\u001b[1;33m.\u001b[0m\u001b[0mZipFile\u001b[0m\u001b[1;33m(\u001b[0m\u001b[0mfile\u001b[0m\u001b[1;33m,\u001b[0m \u001b[1;33m*\u001b[0m\u001b[0margs\u001b[0m\u001b[1;33m,\u001b[0m \u001b[1;33m**\u001b[0m\u001b[0mkwargs\u001b[0m\u001b[1;33m)\u001b[0m\u001b[1;33m\u001b[0m\u001b[0m\n\u001b[0m\u001b[1;32m    102\u001b[0m \u001b[1;33m\u001b[0m\u001b[0m\n\u001b[1;32m    103\u001b[0m \u001b[1;33m\u001b[0m\u001b[0m\n",
      "\u001b[0;32mC:\\Users\\jacob\\Anaconda3\\envs\\tensorflow\\lib\\zipfile.py\u001b[0m in \u001b[0;36m__init__\u001b[0;34m(self, file, mode, compression, allowZip64)\u001b[0m\n\u001b[1;32m   1007\u001b[0m             \u001b[1;32mwhile\u001b[0m \u001b[1;32mTrue\u001b[0m\u001b[1;33m:\u001b[0m\u001b[1;33m\u001b[0m\u001b[0m\n\u001b[1;32m   1008\u001b[0m                 \u001b[1;32mtry\u001b[0m\u001b[1;33m:\u001b[0m\u001b[1;33m\u001b[0m\u001b[0m\n\u001b[0;32m-> 1009\u001b[0;31m                     \u001b[0mself\u001b[0m\u001b[1;33m.\u001b[0m\u001b[0mfp\u001b[0m \u001b[1;33m=\u001b[0m \u001b[0mio\u001b[0m\u001b[1;33m.\u001b[0m\u001b[0mopen\u001b[0m\u001b[1;33m(\u001b[0m\u001b[0mfile\u001b[0m\u001b[1;33m,\u001b[0m \u001b[0mfilemode\u001b[0m\u001b[1;33m)\u001b[0m\u001b[1;33m\u001b[0m\u001b[0m\n\u001b[0m\u001b[1;32m   1010\u001b[0m                 \u001b[1;32mexcept\u001b[0m \u001b[0mOSError\u001b[0m\u001b[1;33m:\u001b[0m\u001b[1;33m\u001b[0m\u001b[0m\n\u001b[1;32m   1011\u001b[0m                     \u001b[1;32mif\u001b[0m \u001b[0mfilemode\u001b[0m \u001b[1;32min\u001b[0m \u001b[0mmodeDict\u001b[0m\u001b[1;33m:\u001b[0m\u001b[1;33m\u001b[0m\u001b[0m\n",
      "\u001b[0;31mFileNotFoundError\u001b[0m: [Errno 2] No such file or directory: '../data/cluster//points/points_0000.npz'"
     ]
    }
   ],
   "source": [
    "qstem=PyQSTEM('TEM')\n",
    "\n",
    "for i,model in enumerate(models_list):\n",
    "    \n",
    "    wave_size=(int(model.get_cell()[0,0]*15),int(model.get_cell()[1,1]*15))\n",
    "    \n",
    "    qstem.set_atoms(model)\n",
    "    qstem.build_wave('plane',300,wave_size)\n",
    "    qstem.build_potential(int(model.get_cell()[2,2]*2))\n",
    "    qstem.run()\n",
    "    wave=qstem.get_wave()\n",
    "    \n",
    "    wave.array=wave.array.astype(np.complex64)\n",
    "    \n",
    "    np.savez('{0}/points/points_{1:04d}.npz'.format(dir_name,first_number+i), sites=sites_list[i], classes=classes_list[i])\n",
    "    wave.save('{0}/wave/wave_{1:04d}.npz'.format(dir_name,first_number+i))\n",
    "    write('{0}/model/model_{1:04d}.cfg'.format(dir_name,first_number+i),model)\n",
    "    \n",
    "    print('iteration',i)\n",
    "    clear_output(wait=True)"
   ]
  },
  {
   "cell_type": "code",
   "execution_count": 6,
   "metadata": {},
   "outputs": [],
   "source": [
    "def load(data_dir):\n",
    "    \n",
    "    models=glob(data_dir+\"model/model_*.cfg\")\n",
    "    waves=glob(data_dir+\"wave/wave_*.npz\")\n",
    "    #labels=glob(data_dir+\"label/label_*.npy\")\n",
    "    points=glob(data_dir+\"points/points_*.npz\")\n",
    "    #print(data_dir+\"model/model_*.cfg\")\n",
    "    \n",
    "    entries=[DataEntry(wave=w,points=p,model=m) for w,p,m in zip(waves,points,models)]\n",
    "    \n",
    "    return DataSet(entries)"
   ]
  },
  {
   "cell_type": "code",
   "execution_count": null,
   "metadata": {},
   "outputs": [],
   "source": []
  },
  {
   "cell_type": "code",
   "execution_count": 16,
   "metadata": {},
   "outputs": [
    {
     "name": "stderr",
     "output_type": "stream",
     "text": [
      "C:\\Users\\jacob\\Anaconda3\\Lib\\site-packages\\ase\\ase\\io\\formats.py:360: DeprecationWarning: 'U' mode is deprecated\n",
      "  fd = open(filename, 'rU')\n"
     ]
    }
   ],
   "source": [
    "Cs=-11.5*10**4\n",
    "defocus=800\n",
    "#defocus=200\n",
    "focal_spread=40\n",
    "blur=2.\n",
    "dose=None#3*10**2\n",
    "mtf_param=[1,0,4.89683027e-01,2.34644273e+00]\n",
    "aberrations={'a22':0,'phi22':np.random.rand()*2*np.pi,'a40':0*10**6}\n",
    "sampling=.12\n",
    "\n",
    "#data = load(dir_name)\n",
    "#entry=data.next_batch(1)[0]\n",
    "\n",
    "entry.reset()\n",
    "entry.load()\n",
    "ctf=CTF(defocus=defocus,Cs=Cs,focal_spread=focal_spread,aberrations=aberrations)\n",
    "entry.create_image(ctf,sampling,blur,dose,mtf_param)\n",
    "entry.create_label(sampling,width=int(1.5/sampling))\n",
    "\n",
    "image,label,sites,classes=entry.as_tensors(True)\n",
    "\n",
    "image=mods.local_normalize(image,80,80)\n",
    "\n",
    "#cmap=discrete_cmap(np.max(classes)+1,'Paired')\n",
    "\n",
    "\n",
    "fig,axes=plt.subplots(1,2)\n",
    "\n",
    "#axes[0].plot(sites[:,0]/sampling,sites[:,1]/sampling,'rx')\n",
    "axes[0].imshow(image[0,:,:,0].T,cmap='gray')\n",
    "\n",
    "#axes[1].imshow(np.argmax(label[0,:,:,:],axis=2).T,cmap='Paired',vmin=-0.5,vmax=9.5,interpolation='nearest')\n",
    "#axes[1].imshow(label[0,:,:,0].T,cmap='jet',vmin=0,vmax=1)\n",
    "\n",
    "#cbar=plt.colorbar(sc,ax=axes[1],ticks=np.linspace(0,np.max(classes),np.max(classes)+1))\n",
    "#cbar.ax.set_yticklabels(names)\n",
    "\n",
    "plt.show()\n"
   ]
  },
  {
   "cell_type": "code",
   "execution_count": 2,
   "metadata": {},
   "outputs": [
    {
     "ename": "NameError",
     "evalue": "name 'load' is not defined",
     "output_type": "error",
     "traceback": [
      "\u001b[0;31m---------------------------------------------------------------------------\u001b[0m",
      "\u001b[0;31mNameError\u001b[0m                                 Traceback (most recent call last)",
      "\u001b[0;32m<ipython-input-2-7cba15aaf8e2>\u001b[0m in \u001b[0;36m<module>\u001b[0;34m()\u001b[0m\n\u001b[1;32m     11\u001b[0m \u001b[1;33m\u001b[0m\u001b[0m\n\u001b[1;32m     12\u001b[0m \u001b[0mM\u001b[0m\u001b[1;33m=\u001b[0m\u001b[1;36m14\u001b[0m\u001b[1;33m\u001b[0m\u001b[0m\n\u001b[0;32m---> 13\u001b[0;31m \u001b[0mdata\u001b[0m \u001b[1;33m=\u001b[0m \u001b[0mload\u001b[0m\u001b[1;33m(\u001b[0m\u001b[0mdir_name\u001b[0m\u001b[1;33m)\u001b[0m\u001b[1;33m\u001b[0m\u001b[0m\n\u001b[0m\u001b[1;32m     14\u001b[0m \u001b[1;33m\u001b[0m\u001b[0m\n\u001b[1;32m     15\u001b[0m \u001b[1;33m\u001b[0m\u001b[0m\n",
      "\u001b[0;31mNameError\u001b[0m: name 'load' is not defined"
     ]
    }
   ],
   "source": [
    "from matplotlib import gridspec\n",
    "plt.rc('text', usetex=True)\n",
    "plt.rc('font', family='serif', size=14, serif='cm10')\n",
    "\n",
    "n=2\n",
    "m=4\n",
    "\n",
    "fig=plt.figure(figsize=(10,9.1))\n",
    "gs=gridspec.GridSpec(n*2,m+2,width_ratios=[1,1,1,1,.1,.1])\n",
    "gs.update(wspace=.025,hspace=.025)\n",
    "\n",
    "M=14\n",
    "data = load(dir_name)\n",
    "\n",
    "\n",
    "for i in range(n):\n",
    "    for j in range(m):\n",
    "        \n",
    "        Cs=np.random.uniform(-15,-5)*10**4\n",
    "        defocus=np.random.uniform(40,200)\n",
    "        \n",
    "        focal_spread=40\n",
    "        blur=3.\n",
    "        dose=4*10**np.random.uniform(2,4)\n",
    "        \n",
    "        mtf_param=[1,0,4.89683027e-01,2.34644273e+00]\n",
    "        \n",
    "        aberrations={'a22':0,'phi22':np.random.rand()*2*np.pi,'a40':0*10**6}\n",
    "        sampling=np.random.uniform(.08,.12)\n",
    "        \n",
    "        entry=data.next_batch(1)[0]\n",
    "\n",
    "        entry.reset()\n",
    "        entry.load()\n",
    "        ctf=CTF(defocus=defocus,Cs=Cs,focal_spread=focal_spread,aberrations=aberrations)\n",
    "        entry.create_image(ctf,sampling,blur,dose,mtf_param)\n",
    "        entry.create_label(sampling,width=int(1.5/sampling))\n",
    "        \n",
    "        entry.local_normalize(16/sampling,16/sampling)\n",
    "        entry.normalize()\n",
    "        \n",
    "        image,label,sites,classes,_=entry.as_tensors(True)\n",
    "        \n",
    "        \n",
    "        k=i*m+j\n",
    "        \n",
    "        #k=np.random.randint(0,len(models_list))\n",
    "        \n",
    "        #positions,counts=project_positions(models[k],distance=.6,return_counts=True)\n",
    "        #positions/=sampling\n",
    "        \n",
    "        #print(np.max(counts))\n",
    "        \n",
    "        ax=plt.subplot(gs[i,j])\n",
    "        \n",
    "        cmap=discrete_cmap(M,'Paired')\n",
    "        \n",
    "        sc=ax.scatter(sites[:,0],sites[:,1],c=np.array(classes),\n",
    "                   s=25,cmap=cmap,vmin=1-0.5,vmax=1+M-.5,lw=0)\n",
    "        \n",
    "        ax.set_aspect('equal',adjustable='box')\n",
    "        ax.set_xticks([])\n",
    "        ax.set_yticks([])\n",
    "        ax.set_xlim([0,L])\n",
    "        ax.set_ylim([L,0])\n",
    "        \n",
    "        ax=plt.subplot(gs[i+n,j])\n",
    "        im=ax.imshow(image[0,:,:,0].T,cmap='gray',vmin=-3,vmax=3)\n",
    "        \n",
    "        ax.axis('off')\n",
    "        \n",
    "        #ax=plt.subplot(gs[i+2,j])\n",
    "        \n",
    "        \n",
    "inner = gridspec.GridSpecFromSubplotSpec(3,1,subplot_spec=gs[:2,4],height_ratios=[1,20,1])\n",
    "cax=plt.subplot(inner[1])\n",
    "\n",
    "cbar=plt.colorbar(sc,cax=cax,ticks=np.arange(1,M+1,1),orientation='vertical',label='Column height')\n",
    "        \n",
    "inner = gridspec.GridSpecFromSubplotSpec(3,1,subplot_spec=gs[2:,4],height_ratios=[1,20,1])\n",
    "cax=plt.subplot(inner[1])\n",
    "\n",
    "cbar=plt.colorbar(im,cax=cax,ticks=np.arange(-3,3.1,2),orientation='vertical',label='Standardized Intensity')\n",
    "\n",
    "#plt.savefig('cluster_training.pdf',dpi=300,bbox_inches='tight')\n",
    "plt.show()"
   ]
  },
  {
   "cell_type": "code",
   "execution_count": 90,
   "metadata": {},
   "outputs": [
    {
     "data": {
      "text/plain": [
       "<matplotlib.image.AxesImage at 0x25d610d3400>"
      ]
     },
     "execution_count": 90,
     "metadata": {},
     "output_type": "execute_result"
    }
   ],
   "source": [
    "#print(label.shape,wave.shape)\n",
    "Cs=-20*10**4\n",
    "defocus=160\n",
    "focal_spread=30\n",
    "\n",
    "ctf=CTF(defocus=defocus,Cs=Cs,focal_spread=focal_spread)\n",
    "image=wave.apply_ctf(ctf).detect(resample=sampling,blur=.3,dose=10**3)\n",
    "\n",
    "plt.imshow(image,cmap='gray')"
   ]
  },
  {
   "cell_type": "code",
   "execution_count": 67,
   "metadata": {},
   "outputs": [
    {
     "ename": "NameError",
     "evalue": "name 'label' is not defined",
     "output_type": "error",
     "traceback": [
      "\u001b[0;31m---------------------------------------------------------------------------\u001b[0m",
      "\u001b[0;31mNameError\u001b[0m                                 Traceback (most recent call last)",
      "\u001b[0;32m<ipython-input-67-2d599d34db43>\u001b[0m in \u001b[0;36m<module>\u001b[0;34m()\u001b[0m\n\u001b[0;32m----> 1\u001b[0;31m \u001b[0mprint\u001b[0m\u001b[1;33m(\u001b[0m\u001b[0mlabel\u001b[0m\u001b[1;33m.\u001b[0m\u001b[0mshape\u001b[0m\u001b[1;33m,\u001b[0m\u001b[0mwave\u001b[0m\u001b[1;33m.\u001b[0m\u001b[0mshape\u001b[0m\u001b[1;33m)\u001b[0m\u001b[1;33m\u001b[0m\u001b[0m\n\u001b[0m\u001b[1;32m      2\u001b[0m \u001b[0mCs\u001b[0m\u001b[1;33m=\u001b[0m\u001b[1;33m-\u001b[0m\u001b[1;36m20\u001b[0m\u001b[1;33m*\u001b[0m\u001b[1;36m10\u001b[0m\u001b[1;33m**\u001b[0m\u001b[1;36m4\u001b[0m\u001b[1;33m\u001b[0m\u001b[0m\n\u001b[1;32m      3\u001b[0m \u001b[0mdefocus\u001b[0m\u001b[1;33m=\u001b[0m\u001b[1;36m120\u001b[0m\u001b[1;33m\u001b[0m\u001b[0m\n\u001b[1;32m      4\u001b[0m \u001b[0mfocal_spread\u001b[0m\u001b[1;33m=\u001b[0m\u001b[1;36m40\u001b[0m\u001b[1;33m\u001b[0m\u001b[0m\n\u001b[1;32m      5\u001b[0m \u001b[1;33m\u001b[0m\u001b[0m\n",
      "\u001b[0;31mNameError\u001b[0m: name 'label' is not defined"
     ]
    }
   ],
   "source": [
    "#print(label.shape,wave.shape)\n",
    "Cs=-20*10**4\n",
    "defocus=120\n",
    "focal_spread=40\n",
    "\n",
    "ctf=CTF(defocus=defocus,Cs=Cs,focal_spread=focal_spread)\n",
    "image=wave.apply_ctf(ctf).detect(resample=sampling,blur=.3,dose=10**2)\n",
    "\n",
    "fig,(ax1,ax2,ax3)=plt.subplots(1,3,figsize=(10,4))\n",
    "\n",
    "sc=ax1.scatter(positions[:,0],positions[:,1],c=counts,cmap='Paired',s=80)\n",
    "plt.colorbar(sc,ax=ax1)\n",
    "ax1.axis('equal')\n",
    "\n",
    "im=ax2.imshow(np.flipud(image.T),cmap='gray');\n",
    "ax2.axis('off')\n",
    "plt.colorbar(im,ax=ax2)\n",
    "\n",
    "#ax3.imshow(np.flipud(label[:,:,0].T))\n",
    "#ax3.axis('off')\n",
    "\n",
    "#plt.tight_layout()"
   ]
  }
 ],
 "metadata": {
  "anaconda-cloud": {},
  "kernelspec": {
   "display_name": "Python [conda env:tensorflow]",
   "language": "python",
   "name": "conda-env-tensorflow-py"
  },
  "language_info": {
   "codemirror_mode": {
    "name": "ipython",
    "version": 3
   },
   "file_extension": ".py",
   "mimetype": "text/x-python",
   "name": "python",
   "nbconvert_exporter": "python",
   "pygments_lexer": "ipython3",
   "version": "3.5.2"
  }
 },
 "nbformat": 4,
 "nbformat_minor": 1
}
